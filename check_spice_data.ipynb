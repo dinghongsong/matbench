{
 "cells": [
  {
   "cell_type": "code",
   "execution_count": 1,
   "metadata": {},
   "outputs": [],
   "source": [
    "import numpy as np"
   ]
  },
  {
   "cell_type": "code",
   "execution_count": 2,
   "metadata": {},
   "outputs": [],
   "source": [
    "import matplotlib.pyplot as plt"
   ]
  },
  {
   "cell_type": "code",
   "execution_count": 3,
   "metadata": {},
   "outputs": [
    {
     "name": "stdout",
     "output_type": "stream",
     "text": [
      "data in test set\n",
      "mean: 2.4555\n",
      "max: 7.8233\n",
      "min: 0.0351\n",
      "std: 1.0790\n",
      "median: 2.5777\n",
      "-----------------------------------\n",
      "data in validation set\n",
      "mean: 1.4368\n",
      "max: 70.2449\n",
      "min: 0.0003\n",
      "std: 1.1921\n",
      "median: 1.1068\n",
      "-----------------------------------\n"
     ]
    },
    {
     "name": "stdout",
     "output_type": "stream",
     "text": [
      "data in train set\n",
      "mean: 1.4381\n",
      "max: 77.9315\n",
      "min: 0.0001\n",
      "std: 1.2005\n",
      "median: 1.1080\n",
      "-----------------------------------\n"
     ]
    }
   ],
   "source": [
    "for split in ['test', 'validation', 'train']:\n",
    "    data = np.load(f'./dataset/SPICE/raw/{split}.npz', allow_pickle=True)\n",
    "\n",
    "    force = np.linalg.norm(np.concatenate(data['F']), axis=1)\n",
    "    print('data in %s set' % split)\n",
    "    print('mean: %.4f' % np.mean(force))\n",
    "    print('max: %.4f' % np.max(force))\n",
    "    print('min: %.4f' % np.min(force))\n",
    "    print('std: %.4f' % np.std(force))\n",
    "    print('median: %.4f' % np.median(force))\n",
    "    print('-----------------------------------')"
   ]
  },
  {
   "cell_type": "code",
   "execution_count": 9,
   "metadata": {},
   "outputs": [
    {
     "data": {
      "text/plain": [
       "1151"
      ]
     },
     "execution_count": 9,
     "metadata": {},
     "output_type": "execute_result"
    }
   ],
   "source": [
    "(force>30).sum()"
   ]
  },
  {
   "cell_type": "code",
   "execution_count": null,
   "metadata": {},
   "outputs": [],
   "source": []
  }
 ],
 "metadata": {
  "kernelspec": {
   "display_name": "Python 3",
   "language": "python",
   "name": "python3"
  },
  "language_info": {
   "codemirror_mode": {
    "name": "ipython",
    "version": 3
   },
   "file_extension": ".py",
   "mimetype": "text/x-python",
   "name": "python",
   "nbconvert_exporter": "python",
   "pygments_lexer": "ipython3",
   "version": "3.10.11"
  },
  "orig_nbformat": 4
 },
 "nbformat": 4,
 "nbformat_minor": 2
}
